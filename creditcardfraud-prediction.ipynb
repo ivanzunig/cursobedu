{
 "cells": [
  {
   "cell_type": "markdown",
   "id": "ee490ac6",
   "metadata": {
    "papermill": {
     "duration": 0.039101,
     "end_time": "2022-01-16T06:25:17.245409",
     "exception": false,
     "start_time": "2022-01-16T06:25:17.206308",
     "status": "completed"
    },
    "tags": []
   },
   "source": [
    "# Credit Card Fraud Detection\n",
    "### Objectives\n",
    "* Find the best model of Credit Card Fraud Prediction\n",
    "* Compare Features importance\n",
    "* Resampling Data"
   ]
  },
  {
   "cell_type": "code",
   "execution_count": 1,
   "id": "5494cba1",
   "metadata": {
    "_cell_guid": "b1076dfc-b9ad-4769-8c92-a6c4dae69d19",
    "_uuid": "8f2839f25d086af736a60e9eeb907d3b93b6e0e5",
    "execution": {
     "iopub.execute_input": "2022-01-16T06:25:17.330494Z",
     "iopub.status.busy": "2022-01-16T06:25:17.325821Z",
     "iopub.status.idle": "2022-01-16T06:25:18.449906Z",
     "shell.execute_reply": "2022-01-16T06:25:18.449170Z",
     "shell.execute_reply.started": "2022-01-16T06:22:03.296072Z"
    },
    "papermill": {
     "duration": 1.166801,
     "end_time": "2022-01-16T06:25:18.450100",
     "exception": false,
     "start_time": "2022-01-16T06:25:17.283299",
     "status": "completed"
    },
    "tags": []
   },
   "outputs": [],
   "source": [
    "import numpy as np\n",
    "import pandas as pd\n",
    "import matplotlib.pyplot as plt\n",
    "import seaborn as sns\n",
    "from imblearn.under_sampling import RandomUnderSampler\n",
    "from sklearn.ensemble import RandomForestClassifier\n",
    "from sklearn.model_selection import GridSearchCV\n",
    "import os"
   ]
  },
  {
   "cell_type": "markdown",
   "id": "0b729a54",
   "metadata": {
    "papermill": {
     "duration": 0.059719,
     "end_time": "2022-01-16T06:25:18.570762",
     "exception": false,
     "start_time": "2022-01-16T06:25:18.511043",
     "status": "completed"
    },
    "tags": []
   },
   "source": [
    "# Load Train and Test dataset"
   ]
  },
  {
   "cell_type": "code",
   "execution_count": 2,
   "id": "0e906965",
   "metadata": {
    "execution": {
     "iopub.execute_input": "2022-01-16T06:25:18.694900Z",
     "iopub.status.busy": "2022-01-16T06:25:18.694183Z",
     "iopub.status.idle": "2022-01-16T06:25:30.217973Z",
     "shell.execute_reply": "2022-01-16T06:25:30.217201Z",
     "shell.execute_reply.started": "2022-01-16T06:22:04.778125Z"
    },
    "papermill": {
     "duration": 11.587417,
     "end_time": "2022-01-16T06:25:30.218098",
     "exception": false,
     "start_time": "2022-01-16T06:25:18.630681",
     "status": "completed"
    },
    "tags": []
   },
   "outputs": [],
   "source": [
    "cc_original_train_df = pd.read_csv(\"/Users/diegoperezo97/Documents/Bedu – Data Analysis/proyecto-final/recursos/fraudTest.csv\", index_col=\"Unnamed: 0\")\n",
    "cc_original_test_df = pd.read_csv(\"/Users/diegoperezo97/Documents/Bedu – Data Analysis/proyecto-final/recursos/fraudTrain.csv\", index_col=\"Unnamed: 0\")"
   ]
  },
  {
   "cell_type": "markdown",
   "id": "e601a0ef",
   "metadata": {
    "papermill": {
     "duration": 0.038049,
     "end_time": "2022-01-16T06:25:30.294354",
     "exception": false,
     "start_time": "2022-01-16T06:25:30.256305",
     "status": "completed"
    },
    "tags": []
   },
   "source": [
    "Check data description and null value of train data"
   ]
  },
  {
   "cell_type": "code",
   "execution_count": 3,
   "id": "aebbcea1",
   "metadata": {
    "execution": {
     "iopub.execute_input": "2022-01-16T06:25:30.383645Z",
     "iopub.status.busy": "2022-01-16T06:25:30.383130Z",
     "iopub.status.idle": "2022-01-16T06:25:30.403463Z",
     "shell.execute_reply": "2022-01-16T06:25:30.403948Z",
     "shell.execute_reply.started": "2022-01-16T06:22:19.760009Z"
    },
    "papermill": {
     "duration": 0.071569,
     "end_time": "2022-01-16T06:25:30.404082",
     "exception": false,
     "start_time": "2022-01-16T06:25:30.332513",
     "status": "completed"
    },
    "tags": []
   },
   "outputs": [
    {
     "data": {
      "text/html": [
       "<div>\n",
       "<style scoped>\n",
       "    .dataframe tbody tr th:only-of-type {\n",
       "        vertical-align: middle;\n",
       "    }\n",
       "\n",
       "    .dataframe tbody tr th {\n",
       "        vertical-align: top;\n",
       "    }\n",
       "\n",
       "    .dataframe thead th {\n",
       "        text-align: right;\n",
       "    }\n",
       "</style>\n",
       "<table border=\"1\" class=\"dataframe\">\n",
       "  <thead>\n",
       "    <tr style=\"text-align: right;\">\n",
       "      <th></th>\n",
       "      <th>trans_date_trans_time</th>\n",
       "      <th>cc_num</th>\n",
       "      <th>merchant</th>\n",
       "      <th>category</th>\n",
       "      <th>amt</th>\n",
       "      <th>first</th>\n",
       "      <th>last</th>\n",
       "      <th>gender</th>\n",
       "      <th>street</th>\n",
       "      <th>city</th>\n",
       "      <th>...</th>\n",
       "      <th>lat</th>\n",
       "      <th>long</th>\n",
       "      <th>city_pop</th>\n",
       "      <th>job</th>\n",
       "      <th>dob</th>\n",
       "      <th>trans_num</th>\n",
       "      <th>unix_time</th>\n",
       "      <th>merch_lat</th>\n",
       "      <th>merch_long</th>\n",
       "      <th>is_fraud</th>\n",
       "    </tr>\n",
       "  </thead>\n",
       "  <tbody>\n",
       "    <tr>\n",
       "      <th>0</th>\n",
       "      <td>2020-06-21 12:14:25</td>\n",
       "      <td>2291163933867244</td>\n",
       "      <td>fraud_Kirlin and Sons</td>\n",
       "      <td>personal_care</td>\n",
       "      <td>2.86</td>\n",
       "      <td>Jeff</td>\n",
       "      <td>Elliott</td>\n",
       "      <td>M</td>\n",
       "      <td>351 Darlene Green</td>\n",
       "      <td>Columbia</td>\n",
       "      <td>...</td>\n",
       "      <td>33.9659</td>\n",
       "      <td>-80.9355</td>\n",
       "      <td>333497</td>\n",
       "      <td>Mechanical engineer</td>\n",
       "      <td>1968-03-19</td>\n",
       "      <td>2da90c7d74bd46a0caf3777415b3ebd3</td>\n",
       "      <td>1371816865</td>\n",
       "      <td>33.986391</td>\n",
       "      <td>-81.200714</td>\n",
       "      <td>0</td>\n",
       "    </tr>\n",
       "    <tr>\n",
       "      <th>1</th>\n",
       "      <td>2020-06-21 12:14:33</td>\n",
       "      <td>3573030041201292</td>\n",
       "      <td>fraud_Sporer-Keebler</td>\n",
       "      <td>personal_care</td>\n",
       "      <td>29.84</td>\n",
       "      <td>Joanne</td>\n",
       "      <td>Williams</td>\n",
       "      <td>F</td>\n",
       "      <td>3638 Marsh Union</td>\n",
       "      <td>Altonah</td>\n",
       "      <td>...</td>\n",
       "      <td>40.3207</td>\n",
       "      <td>-110.4360</td>\n",
       "      <td>302</td>\n",
       "      <td>Sales professional, IT</td>\n",
       "      <td>1990-01-17</td>\n",
       "      <td>324cc204407e99f51b0d6ca0055005e7</td>\n",
       "      <td>1371816873</td>\n",
       "      <td>39.450498</td>\n",
       "      <td>-109.960431</td>\n",
       "      <td>0</td>\n",
       "    </tr>\n",
       "    <tr>\n",
       "      <th>2</th>\n",
       "      <td>2020-06-21 12:14:53</td>\n",
       "      <td>3598215285024754</td>\n",
       "      <td>fraud_Swaniawski, Nitzsche and Welch</td>\n",
       "      <td>health_fitness</td>\n",
       "      <td>41.28</td>\n",
       "      <td>Ashley</td>\n",
       "      <td>Lopez</td>\n",
       "      <td>F</td>\n",
       "      <td>9333 Valentine Point</td>\n",
       "      <td>Bellmore</td>\n",
       "      <td>...</td>\n",
       "      <td>40.6729</td>\n",
       "      <td>-73.5365</td>\n",
       "      <td>34496</td>\n",
       "      <td>Librarian, public</td>\n",
       "      <td>1970-10-21</td>\n",
       "      <td>c81755dbbbea9d5c77f094348a7579be</td>\n",
       "      <td>1371816893</td>\n",
       "      <td>40.495810</td>\n",
       "      <td>-74.196111</td>\n",
       "      <td>0</td>\n",
       "    </tr>\n",
       "    <tr>\n",
       "      <th>3</th>\n",
       "      <td>2020-06-21 12:15:15</td>\n",
       "      <td>3591919803438423</td>\n",
       "      <td>fraud_Haley Group</td>\n",
       "      <td>misc_pos</td>\n",
       "      <td>60.05</td>\n",
       "      <td>Brian</td>\n",
       "      <td>Williams</td>\n",
       "      <td>M</td>\n",
       "      <td>32941 Krystal Mill Apt. 552</td>\n",
       "      <td>Titusville</td>\n",
       "      <td>...</td>\n",
       "      <td>28.5697</td>\n",
       "      <td>-80.8191</td>\n",
       "      <td>54767</td>\n",
       "      <td>Set designer</td>\n",
       "      <td>1987-07-25</td>\n",
       "      <td>2159175b9efe66dc301f149d3d5abf8c</td>\n",
       "      <td>1371816915</td>\n",
       "      <td>28.812398</td>\n",
       "      <td>-80.883061</td>\n",
       "      <td>0</td>\n",
       "    </tr>\n",
       "    <tr>\n",
       "      <th>4</th>\n",
       "      <td>2020-06-21 12:15:17</td>\n",
       "      <td>3526826139003047</td>\n",
       "      <td>fraud_Johnston-Casper</td>\n",
       "      <td>travel</td>\n",
       "      <td>3.19</td>\n",
       "      <td>Nathan</td>\n",
       "      <td>Massey</td>\n",
       "      <td>M</td>\n",
       "      <td>5783 Evan Roads Apt. 465</td>\n",
       "      <td>Falmouth</td>\n",
       "      <td>...</td>\n",
       "      <td>44.2529</td>\n",
       "      <td>-85.0170</td>\n",
       "      <td>1126</td>\n",
       "      <td>Furniture designer</td>\n",
       "      <td>1955-07-06</td>\n",
       "      <td>57ff021bd3f328f8738bb535c302a31b</td>\n",
       "      <td>1371816917</td>\n",
       "      <td>44.959148</td>\n",
       "      <td>-85.884734</td>\n",
       "      <td>0</td>\n",
       "    </tr>\n",
       "  </tbody>\n",
       "</table>\n",
       "<p>5 rows × 22 columns</p>\n",
       "</div>"
      ],
      "text/plain": [
       "  trans_date_trans_time            cc_num  \\\n",
       "0   2020-06-21 12:14:25  2291163933867244   \n",
       "1   2020-06-21 12:14:33  3573030041201292   \n",
       "2   2020-06-21 12:14:53  3598215285024754   \n",
       "3   2020-06-21 12:15:15  3591919803438423   \n",
       "4   2020-06-21 12:15:17  3526826139003047   \n",
       "\n",
       "                               merchant        category    amt   first  \\\n",
       "0                 fraud_Kirlin and Sons   personal_care   2.86    Jeff   \n",
       "1                  fraud_Sporer-Keebler   personal_care  29.84  Joanne   \n",
       "2  fraud_Swaniawski, Nitzsche and Welch  health_fitness  41.28  Ashley   \n",
       "3                     fraud_Haley Group        misc_pos  60.05   Brian   \n",
       "4                 fraud_Johnston-Casper          travel   3.19  Nathan   \n",
       "\n",
       "       last gender                       street        city  ...      lat  \\\n",
       "0   Elliott      M            351 Darlene Green    Columbia  ...  33.9659   \n",
       "1  Williams      F             3638 Marsh Union     Altonah  ...  40.3207   \n",
       "2     Lopez      F         9333 Valentine Point    Bellmore  ...  40.6729   \n",
       "3  Williams      M  32941 Krystal Mill Apt. 552  Titusville  ...  28.5697   \n",
       "4    Massey      M     5783 Evan Roads Apt. 465    Falmouth  ...  44.2529   \n",
       "\n",
       "       long  city_pop                     job         dob  \\\n",
       "0  -80.9355    333497     Mechanical engineer  1968-03-19   \n",
       "1 -110.4360       302  Sales professional, IT  1990-01-17   \n",
       "2  -73.5365     34496       Librarian, public  1970-10-21   \n",
       "3  -80.8191     54767            Set designer  1987-07-25   \n",
       "4  -85.0170      1126      Furniture designer  1955-07-06   \n",
       "\n",
       "                          trans_num   unix_time  merch_lat  merch_long  \\\n",
       "0  2da90c7d74bd46a0caf3777415b3ebd3  1371816865  33.986391  -81.200714   \n",
       "1  324cc204407e99f51b0d6ca0055005e7  1371816873  39.450498 -109.960431   \n",
       "2  c81755dbbbea9d5c77f094348a7579be  1371816893  40.495810  -74.196111   \n",
       "3  2159175b9efe66dc301f149d3d5abf8c  1371816915  28.812398  -80.883061   \n",
       "4  57ff021bd3f328f8738bb535c302a31b  1371816917  44.959148  -85.884734   \n",
       "\n",
       "   is_fraud  \n",
       "0         0  \n",
       "1         0  \n",
       "2         0  \n",
       "3         0  \n",
       "4         0  \n",
       "\n",
       "[5 rows x 22 columns]"
      ]
     },
     "execution_count": 3,
     "metadata": {},
     "output_type": "execute_result"
    }
   ],
   "source": [
    "cc_original_train_df.head(5)"
   ]
  },
  {
   "cell_type": "code",
   "execution_count": 4,
   "id": "11df06a7",
   "metadata": {
    "execution": {
     "iopub.execute_input": "2022-01-16T06:25:30.487533Z",
     "iopub.status.busy": "2022-01-16T06:25:30.486788Z",
     "iopub.status.idle": "2022-01-16T06:25:31.080418Z",
     "shell.execute_reply": "2022-01-16T06:25:31.080868Z",
     "shell.execute_reply.started": "2022-01-16T06:22:19.800140Z"
    },
    "papermill": {
     "duration": 0.637511,
     "end_time": "2022-01-16T06:25:31.081016",
     "exception": false,
     "start_time": "2022-01-16T06:25:30.443505",
     "status": "completed"
    },
    "tags": []
   },
   "outputs": [
    {
     "name": "stdout",
     "output_type": "stream",
     "text": [
      "<class 'pandas.core.frame.DataFrame'>\n",
      "Int64Index: 555719 entries, 0 to 555718\n",
      "Data columns (total 22 columns):\n",
      " #   Column                 Non-Null Count   Dtype  \n",
      "---  ------                 --------------   -----  \n",
      " 0   trans_date_trans_time  555719 non-null  object \n",
      " 1   cc_num                 555719 non-null  int64  \n",
      " 2   merchant               555719 non-null  object \n",
      " 3   category               555719 non-null  object \n",
      " 4   amt                    555719 non-null  float64\n",
      " 5   first                  555719 non-null  object \n",
      " 6   last                   555719 non-null  object \n",
      " 7   gender                 555719 non-null  object \n",
      " 8   street                 555719 non-null  object \n",
      " 9   city                   555719 non-null  object \n",
      " 10  state                  555719 non-null  object \n",
      " 11  zip                    555719 non-null  int64  \n",
      " 12  lat                    555719 non-null  float64\n",
      " 13  long                   555719 non-null  float64\n",
      " 14  city_pop               555719 non-null  int64  \n",
      " 15  job                    555719 non-null  object \n",
      " 16  dob                    555719 non-null  object \n",
      " 17  trans_num              555719 non-null  object \n",
      " 18  unix_time              555719 non-null  int64  \n",
      " 19  merch_lat              555719 non-null  float64\n",
      " 20  merch_long             555719 non-null  float64\n",
      " 21  is_fraud               555719 non-null  int64  \n",
      "dtypes: float64(5), int64(5), object(12)\n",
      "memory usage: 97.5+ MB\n"
     ]
    }
   ],
   "source": [
    "cc_original_train_df.info()"
   ]
  },
  {
   "cell_type": "code",
   "execution_count": 5,
   "id": "148929cf",
   "metadata": {
    "execution": {
     "iopub.execute_input": "2022-01-16T06:25:31.163067Z",
     "iopub.status.busy": "2022-01-16T06:25:31.162605Z",
     "iopub.status.idle": "2022-01-16T06:25:32.677202Z",
     "shell.execute_reply": "2022-01-16T06:25:32.676752Z",
     "shell.execute_reply.started": "2022-01-16T06:22:20.605149Z"
    },
    "papermill": {
     "duration": 1.556257,
     "end_time": "2022-01-16T06:25:32.677303",
     "exception": false,
     "start_time": "2022-01-16T06:25:31.121046",
     "status": "completed"
    },
    "tags": []
   },
   "outputs": [
    {
     "data": {
      "text/plain": [
       "trans_date_trans_time    0\n",
       "cc_num                   0\n",
       "merchant                 0\n",
       "category                 0\n",
       "amt                      0\n",
       "first                    0\n",
       "last                     0\n",
       "gender                   0\n",
       "street                   0\n",
       "city                     0\n",
       "state                    0\n",
       "zip                      0\n",
       "lat                      0\n",
       "long                     0\n",
       "city_pop                 0\n",
       "job                      0\n",
       "dob                      0\n",
       "trans_num                0\n",
       "unix_time                0\n",
       "merch_lat                0\n",
       "merch_long               0\n",
       "is_fraud                 0\n",
       "dtype: int64"
      ]
     },
     "execution_count": 5,
     "metadata": {},
     "output_type": "execute_result"
    }
   ],
   "source": [
    "cc_original_train_df.isnull().sum() #Count Null Value each feature"
   ]
  },
  {
   "cell_type": "markdown",
   "id": "cc27c3b1",
   "metadata": {
    "papermill": {
     "duration": 0.03899,
     "end_time": "2022-01-16T06:25:32.755635",
     "exception": false,
     "start_time": "2022-01-16T06:25:32.716645",
     "status": "completed"
    },
    "tags": []
   },
   "source": [
    "Note: This train data set don't have null value, All features and target have 1296675."
   ]
  },
  {
   "cell_type": "markdown",
   "id": "65a56d6a",
   "metadata": {
    "papermill": {
     "duration": 0.038843,
     "end_time": "2022-01-16T06:25:32.833547",
     "exception": false,
     "start_time": "2022-01-16T06:25:32.794704",
     "status": "completed"
    },
    "tags": []
   },
   "source": [
    "# Data Visualization\n",
    "Check relationship between features and target"
   ]
  },
  {
   "cell_type": "code",
   "execution_count": 6,
   "id": "8eaf12be",
   "metadata": {
    "execution": {
     "iopub.execute_input": "2022-01-16T06:25:32.919085Z",
     "iopub.status.busy": "2022-01-16T06:25:32.918596Z",
     "iopub.status.idle": "2022-01-16T06:25:33.904412Z",
     "shell.execute_reply": "2022-01-16T06:25:33.903971Z",
     "shell.execute_reply.started": "2022-01-16T06:22:21.347172Z"
    },
    "papermill": {
     "duration": 1.03162,
     "end_time": "2022-01-16T06:25:33.904557",
     "exception": false,
     "start_time": "2022-01-16T06:25:32.872937",
     "status": "completed"
    },
    "tags": []
   },
   "outputs": [
    {
     "data": {
      "image/png": "[encoded data removed]",
      "text/plain": [
       "<Figure size 1440x720 with 2 Axes>"
      ]
     },
     "metadata": {
      "needs_background": "light"
     },
     "output_type": "display_data"
    }
   ],
   "source": [
    "fig, ax = plt.subplots(figsize=(20,10))\n",
    "sns.heatmap(cc_original_train_df.corr(), annot=True)\n",
    "plt.show()"
   ]
  },
  {
   "cell_type": "markdown",
   "id": "e003657a",
   "metadata": {
    "papermill": {
     "duration": 0.040714,
     "end_time": "2022-01-16T06:25:33.986118",
     "exception": false,
     "start_time": "2022-01-16T06:25:33.945404",
     "status": "completed"
    },
    "tags": []
   },
   "source": [
    "Note: From heatmap amount has highly correlated with is_fraud\n",
    "\n",
    "(Heatmap if value close to 1 and color close to white meaning 2 features have highly correlated)"
   ]
  },
  {
   "cell_type": "markdown",
   "id": "a253ae42",
   "metadata": {
    "papermill": {
     "duration": 0.041509,
     "end_time": "2022-01-16T06:25:34.069465",
     "exception": false,
     "start_time": "2022-01-16T06:25:34.027956",
     "status": "completed"
    },
    "tags": []
   },
   "source": [
    "### Questions\n",
    "1. Who was scammed with the most amount and what is gender?\n",
    "2. How much amount that has been scammed the most?\n",
    "3. What is gender that has been scammed the most?\n",
    "4. What type of category that has been scammed the most?"
   ]
  },
  {
   "cell_type": "code",
   "execution_count": 7,
   "id": "f50ea2f7",
   "metadata": {
    "execution": {
     "iopub.execute_input": "2022-01-16T06:25:34.165420Z",
     "iopub.status.busy": "2022-01-16T06:25:34.164921Z",
     "iopub.status.idle": "2022-01-16T06:25:34.201885Z",
     "shell.execute_reply": "2022-01-16T06:25:34.202333Z",
     "shell.execute_reply.started": "2022-01-16T06:22:22.682897Z"
    },
    "papermill": {
     "duration": 0.082947,
     "end_time": "2022-01-16T06:25:34.202483",
     "exception": false,
     "start_time": "2022-01-16T06:25:34.119536",
     "status": "completed"
    },
    "tags": []
   },
   "outputs": [
    {
     "data": {
      "text/html": [
       "<div>\n",
       "<style scoped>\n",
       "    .dataframe tbody tr th:only-of-type {\n",
       "        vertical-align: middle;\n",
       "    }\n",
       "\n",
       "    .dataframe tbody tr th {\n",
       "        vertical-align: top;\n",
       "    }\n",
       "\n",
       "    .dataframe thead th {\n",
       "        text-align: right;\n",
       "    }\n",
       "</style>\n",
       "<table border=\"1\" class=\"dataframe\">\n",
       "  <thead>\n",
       "    <tr style=\"text-align: right;\">\n",
       "      <th></th>\n",
       "      <th>trans_date_trans_time</th>\n",
       "      <th>cc_num</th>\n",
       "      <th>merchant</th>\n",
       "      <th>category</th>\n",
       "      <th>amt</th>\n",
       "      <th>first</th>\n",
       "      <th>last</th>\n",
       "      <th>gender</th>\n",
       "      <th>street</th>\n",
       "      <th>city</th>\n",
       "      <th>...</th>\n",
       "      <th>lat</th>\n",
       "      <th>long</th>\n",
       "      <th>city_pop</th>\n",
       "      <th>job</th>\n",
       "      <th>dob</th>\n",
       "      <th>trans_num</th>\n",
       "      <th>unix_time</th>\n",
       "      <th>merch_lat</th>\n",
       "      <th>merch_long</th>\n",
       "      <th>is_fraud</th>\n",
       "    </tr>\n",
       "  </thead>\n",
       "  <tbody>\n",
       "    <tr>\n",
       "      <th>274178</th>\n",
       "      <td>2020-09-30 23:41:38</td>\n",
       "      <td>180020605265701</td>\n",
       "      <td>fraud_Daugherty, Pouros and Beahan</td>\n",
       "      <td>shopping_pos</td>\n",
       "      <td>1320.92</td>\n",
       "      <td>John</td>\n",
       "      <td>Lewis</td>\n",
       "      <td>M</td>\n",
       "      <td>7908 Derrick Mount</td>\n",
       "      <td>Morrowville</td>\n",
       "      <td>...</td>\n",
       "      <td>39.8616</td>\n",
       "      <td>-97.1825</td>\n",
       "      <td>314</td>\n",
       "      <td>Chemical engineer</td>\n",
       "      <td>2002-03-17</td>\n",
       "      <td>1352f5f821b77b49df4bc2329e5e249e</td>\n",
       "      <td>1380584498</td>\n",
       "      <td>39.679602</td>\n",
       "      <td>-97.038867</td>\n",
       "      <td>1</td>\n",
       "    </tr>\n",
       "    <tr>\n",
       "      <th>155849</th>\n",
       "      <td>2020-08-15 02:08:03</td>\n",
       "      <td>4634955908138648</td>\n",
       "      <td>fraud_Botsford Ltd</td>\n",
       "      <td>shopping_pos</td>\n",
       "      <td>1319.97</td>\n",
       "      <td>Mackenzie</td>\n",
       "      <td>Smith</td>\n",
       "      <td>F</td>\n",
       "      <td>7178 Willis Drive</td>\n",
       "      <td>Hooper</td>\n",
       "      <td>...</td>\n",
       "      <td>41.6414</td>\n",
       "      <td>-96.5232</td>\n",
       "      <td>1745</td>\n",
       "      <td>Engineer, automotive</td>\n",
       "      <td>1973-12-26</td>\n",
       "      <td>3f039e6f6df9f883e39f3b7b6b782a9c</td>\n",
       "      <td>1376532483</td>\n",
       "      <td>42.276801</td>\n",
       "      <td>-95.911843</td>\n",
       "      <td>1</td>\n",
       "    </tr>\n",
       "  </tbody>\n",
       "</table>\n",
       "<p>2 rows × 22 columns</p>\n",
       "</div>"
      ],
      "text/plain": [
       "       trans_date_trans_time            cc_num  \\\n",
       "274178   2020-09-30 23:41:38   180020605265701   \n",
       "155849   2020-08-15 02:08:03  4634955908138648   \n",
       "\n",
       "                                  merchant      category      amt      first  \\\n",
       "274178  fraud_Daugherty, Pouros and Beahan  shopping_pos  1320.92       John   \n",
       "155849                  fraud_Botsford Ltd  shopping_pos  1319.97  Mackenzie   \n",
       "\n",
       "         last gender              street         city  ...      lat     long  \\\n",
       "274178  Lewis      M  7908 Derrick Mount  Morrowville  ...  39.8616 -97.1825   \n",
       "155849  Smith      F   7178 Willis Drive       Hooper  ...  41.6414 -96.5232   \n",
       "\n",
       "        city_pop                   job         dob  \\\n",
       "274178       314     Chemical engineer  2002-03-17   \n",
       "155849      1745  Engineer, automotive  1973-12-26   \n",
       "\n",
       "                               trans_num   unix_time  merch_lat  merch_long  \\\n",
       "274178  1352f5f821b77b49df4bc2329e5e249e  1380584498  39.679602  -97.038867   \n",
       "155849  3f039e6f6df9f883e39f3b7b6b782a9c  1376532483  42.276801  -95.911843   \n",
       "\n",
       "        is_fraud  \n",
       "274178         1  \n",
       "155849         1  \n",
       "\n",
       "[2 rows x 22 columns]"
      ]
     },
     "execution_count": 7,
     "metadata": {},
     "output_type": "execute_result"
    }
   ],
   "source": [
    "cc_original_train_df.loc[cc_original_train_df['is_fraud'] == 1].sort_values('amt', ascending=False).head(2)"
   ]
  },
  {
   "cell_type": "markdown",
   "id": "4fbdbfec",
   "metadata": {
    "papermill": {
     "duration": 0.040797,
     "end_time": "2022-01-16T06:25:34.284743",
     "exception": false,
     "start_time": "2022-01-16T06:25:34.243946",
     "status": "completed"
    },
    "tags": []
   },
   "source": [
    "### Answers\n",
    "1. Who was scammed with the most amount and what is gender?: **Meagan Edwards, Female**\n",
    "2. How much amount that has been scammed the most?: **$1376.04**"
   ]
  },
  {
   "cell_type": "code",
   "execution_count": 8,
   "id": "850feb75",
   "metadata": {
    "execution": {
     "iopub.execute_input": "2022-01-16T06:25:34.370545Z",
     "iopub.status.busy": "2022-01-16T06:25:34.370049Z",
     "iopub.status.idle": "2022-01-16T06:25:44.174480Z",
     "shell.execute_reply": "2022-01-16T06:25:44.175043Z",
     "shell.execute_reply.started": "2022-01-16T06:22:22.729285Z"
    },
    "papermill": {
     "duration": 9.849099,
     "end_time": "2022-01-16T06:25:44.175209",
     "exception": false,
     "start_time": "2022-01-16T06:25:34.326110",
     "status": "completed"
    },
    "tags": []
   },
   "outputs": [
    {
     "data": {
      "text/plain": [
       "<AxesSubplot:title={'center':'Number of frauds by gender'}, xlabel='gender', ylabel='is_fraud'>"
      ]
     },
     "execution_count": 8,
     "metadata": {},
     "output_type": "execute_result"
    },
    {
     "data": {
      "image/png": "[encoded data removed]",
      "text/plain": [
       "<Figure size 1440x576 with 1 Axes>"
      ]
     },
     "metadata": {
      "needs_background": "light"
     },
     "output_type": "display_data"
    }
   ],
   "source": [
    "# Gender\n",
    "plt.figure(figsize=(20,8))\n",
    "plt.title('Number of frauds by gender')\n",
    "sns.barplot(x=\"gender\", y='is_fraud' ,data=cc_original_train_df)"
   ]
  },
  {
   "cell_type": "code",
   "execution_count": 9,
   "id": "52d91963",
   "metadata": {
    "execution": {
     "iopub.execute_input": "2022-01-16T06:25:44.309405Z",
     "iopub.status.busy": "2022-01-16T06:25:44.308749Z",
     "iopub.status.idle": "2022-01-16T06:25:53.551161Z",
     "shell.execute_reply": "2022-01-16T06:25:53.551659Z",
     "shell.execute_reply.started": "2022-01-16T06:22:39.350255Z"
    },
    "papermill": {
     "duration": 9.311009,
     "end_time": "2022-01-16T06:25:53.551793",
     "exception": false,
     "start_time": "2022-01-16T06:25:44.240784",
     "status": "completed"
    },
    "tags": []
   },
   "outputs": [
    {
     "data": {
      "text/plain": [
       "<AxesSubplot:title={'center':'Number of frauds by category'}, xlabel='category', ylabel='is_fraud'>"
      ]
     },
     "execution_count": 9,
     "metadata": {},
     "output_type": "execute_result"
    },
    {
     "data": {
      "image/png": "[encoded data removed]",
      "text/plain": [
       "<Figure size 1440x576 with 1 Axes>"
      ]
     },
     "metadata": {
      "needs_background": "light"
     },
     "output_type": "display_data"
    }
   ],
   "source": [
    "# Category\n",
    "plt.figure(figsize=(20,8))\n",
    "plt.title('Number of frauds by category')\n",
    "sns.barplot(x=\"category\", y='is_fraud' ,data=cc_original_train_df)"
   ]
  },
  {
   "cell_type": "markdown",
   "id": "9df2d1c4",
   "metadata": {
    "papermill": {
     "duration": 0.043046,
     "end_time": "2022-01-16T06:25:53.637686",
     "exception": false,
     "start_time": "2022-01-16T06:25:53.594640",
     "status": "completed"
    },
    "tags": []
   },
   "source": [
    "### Answers\n",
    "3. What is gender that has been scammed the most?: **Male**\n",
    "4. What type of category that has been scammed the most?: **shopping_net**"
   ]
  },
  {
   "cell_type": "markdown",
   "id": "2220aaba",
   "metadata": {
    "papermill": {
     "duration": 0.04234,
     "end_time": "2022-01-16T06:25:53.723709",
     "exception": false,
     "start_time": "2022-01-16T06:25:53.681369",
     "status": "completed"
    },
    "tags": []
   },
   "source": [
    "# Pre-Processing\n",
    "## Downsampling Data\n",
    "Use downsampling solution because targets are imbalance data"
   ]
  },
  {
   "cell_type": "code",
   "execution_count": 10,
   "id": "bebff2b4",
   "metadata": {
    "execution": {
     "iopub.execute_input": "2022-01-16T06:25:53.812262Z",
     "iopub.status.busy": "2022-01-16T06:25:53.811628Z",
     "iopub.status.idle": "2022-01-16T06:25:53.826810Z",
     "shell.execute_reply": "2022-01-16T06:25:53.827202Z",
     "shell.execute_reply.started": "2022-01-16T06:22:49.700969Z"
    },
    "papermill": {
     "duration": 0.060886,
     "end_time": "2022-01-16T06:25:53.827332",
     "exception": false,
     "start_time": "2022-01-16T06:25:53.766446",
     "status": "completed"
    },
    "tags": []
   },
   "outputs": [
    {
     "name": "stdout",
     "output_type": "stream",
     "text": [
      "Number of is_fraud data 0    553574\n",
      "1      2145\n",
      "Name: is_fraud, dtype: int64\n"
     ]
    }
   ],
   "source": [
    "print(\"Number of is_fraud data\",cc_original_train_df['is_fraud'].value_counts())"
   ]
  },
  {
   "cell_type": "markdown",
   "id": "4c491f5f",
   "metadata": {
    "papermill": {
     "duration": 0.04311,
     "end_time": "2022-01-16T06:25:53.913828",
     "exception": false,
     "start_time": "2022-01-16T06:25:53.870718",
     "status": "completed"
    },
    "tags": []
   },
   "source": [
    "is_fraud = 0 has 1289169 data\n",
    "\n",
    "is_fraud = 1 has 7506 data\n",
    "\n",
    "Amount of is_fraud is very different, it can make overfitting"
   ]
  },
  {
   "cell_type": "code",
   "execution_count": 11,
   "id": "dd26e941",
   "metadata": {
    "execution": {
     "iopub.execute_input": "2022-01-16T06:25:54.003993Z",
     "iopub.status.busy": "2022-01-16T06:25:54.003320Z",
     "iopub.status.idle": "2022-01-16T06:25:54.395620Z",
     "shell.execute_reply": "2022-01-16T06:25:54.396000Z",
     "shell.execute_reply.started": "2022-01-16T06:22:49.716909Z"
    },
    "papermill": {
     "duration": 0.438844,
     "end_time": "2022-01-16T06:25:54.396148",
     "exception": false,
     "start_time": "2022-01-16T06:25:53.957304",
     "status": "completed"
    },
    "tags": []
   },
   "outputs": [
    {
     "ename": "IndexError",
     "evalue": "single positional indexer is out-of-bounds",
     "output_type": "error",
     "traceback": [
      "\u001b[0;31m---------------------------------------------------------------------------\u001b[0m",
      "\u001b[0;31mIndexError\u001b[0m                                Traceback (most recent call last)",
      "\u001b[0;32m<ipython-input-11-fd2bf2568b87>\u001b[0m in \u001b[0;36m<module>\u001b[0;34m\u001b[0m\n\u001b[1;32m      1\u001b[0m \u001b[0;32mfrom\u001b[0m \u001b[0msklearn\u001b[0m\u001b[0;34m.\u001b[0m\u001b[0mutils\u001b[0m \u001b[0;32mimport\u001b[0m \u001b[0mresample\u001b[0m\u001b[0;34m\u001b[0m\u001b[0;34m\u001b[0m\u001b[0m\n\u001b[0;32m----> 2\u001b[0;31m \u001b[0mdf_minority\u001b[0m \u001b[0;34m=\u001b[0m \u001b[0mcc_original_train_df\u001b[0m\u001b[0;34m[\u001b[0m\u001b[0mcc_original_train_df\u001b[0m\u001b[0;34m.\u001b[0m\u001b[0miloc\u001b[0m\u001b[0;34m[\u001b[0m\u001b[0;34m:\u001b[0m\u001b[0;34m,\u001b[0m\u001b[0;36m22\u001b[0m\u001b[0;34m]\u001b[0m\u001b[0;34m.\u001b[0m\u001b[0mvalues\u001b[0m\u001b[0;34m==\u001b[0m\u001b[0;36m0\u001b[0m\u001b[0;34m]\u001b[0m \u001b[0;31m# .iloc[:,22] = is_fraud\u001b[0m\u001b[0;34m\u001b[0m\u001b[0;34m\u001b[0m\u001b[0m\n\u001b[0m\u001b[1;32m      3\u001b[0m \u001b[0mdf_majority\u001b[0m \u001b[0;34m=\u001b[0m \u001b[0mcc_original_train_df\u001b[0m\u001b[0;34m[\u001b[0m\u001b[0mcc_original_train_df\u001b[0m\u001b[0;34m.\u001b[0m\u001b[0miloc\u001b[0m\u001b[0;34m[\u001b[0m\u001b[0;34m:\u001b[0m\u001b[0;34m,\u001b[0m\u001b[0;36m22\u001b[0m\u001b[0;34m]\u001b[0m\u001b[0;34m.\u001b[0m\u001b[0mvalues\u001b[0m\u001b[0;34m==\u001b[0m\u001b[0;36m1\u001b[0m\u001b[0;34m]\u001b[0m\u001b[0;34m\u001b[0m\u001b[0;34m\u001b[0m\u001b[0m\n\u001b[1;32m      4\u001b[0m \u001b[0;34m\u001b[0m\u001b[0m\n\u001b[1;32m      5\u001b[0m \u001b[0;31m# Downsample majority class\u001b[0m\u001b[0;34m\u001b[0m\u001b[0;34m\u001b[0m\u001b[0m\n",
      "\u001b[0;32m/usr/local/lib/python3.9/site-packages/pandas/core/indexing.py\u001b[0m in \u001b[0;36m__getitem__\u001b[0;34m(self, key)\u001b[0m\n\u001b[1;32m    887\u001b[0m                     \u001b[0;31m# AttributeError for IntervalTree get_value\u001b[0m\u001b[0;34m\u001b[0m\u001b[0;34m\u001b[0m\u001b[0m\n\u001b[1;32m    888\u001b[0m                     \u001b[0;32mreturn\u001b[0m \u001b[0mself\u001b[0m\u001b[0;34m.\u001b[0m\u001b[0mobj\u001b[0m\u001b[0;34m.\u001b[0m\u001b[0m_get_value\u001b[0m\u001b[0;34m(\u001b[0m\u001b[0;34m*\u001b[0m\u001b[0mkey\u001b[0m\u001b[0;34m,\u001b[0m \u001b[0mtakeable\u001b[0m\u001b[0;34m=\u001b[0m\u001b[0mself\u001b[0m\u001b[0;34m.\u001b[0m\u001b[0m_takeable\u001b[0m\u001b[0;34m)\u001b[0m\u001b[0;34m\u001b[0m\u001b[0;34m\u001b[0m\u001b[0m\n\u001b[0;32m--> 889\u001b[0;31m             \u001b[0;32mreturn\u001b[0m \u001b[0mself\u001b[0m\u001b[0;34m.\u001b[0m\u001b[0m_getitem_tuple\u001b[0m\u001b[0;34m(\u001b[0m\u001b[0mkey\u001b[0m\u001b[0;34m)\u001b[0m\u001b[0;34m\u001b[0m\u001b[0;34m\u001b[0m\u001b[0m\n\u001b[0m\u001b[1;32m    890\u001b[0m         \u001b[0;32melse\u001b[0m\u001b[0;34m:\u001b[0m\u001b[0;34m\u001b[0m\u001b[0;34m\u001b[0m\u001b[0m\n\u001b[1;32m    891\u001b[0m             \u001b[0;31m# we by definition only have the 0th axis\u001b[0m\u001b[0;34m\u001b[0m\u001b[0;34m\u001b[0m\u001b[0m\n",
      "\u001b[0;32m/usr/local/lib/python3.9/site-packages/pandas/core/indexing.py\u001b[0m in \u001b[0;36m_getitem_tuple\u001b[0;34m(self, tup)\u001b[0m\n\u001b[1;32m   1448\u001b[0m     \u001b[0;32mdef\u001b[0m \u001b[0m_getitem_tuple\u001b[0m\u001b[0;34m(\u001b[0m\u001b[0mself\u001b[0m\u001b[0;34m,\u001b[0m \u001b[0mtup\u001b[0m\u001b[0;34m:\u001b[0m \u001b[0mTuple\u001b[0m\u001b[0;34m)\u001b[0m\u001b[0;34m:\u001b[0m\u001b[0;34m\u001b[0m\u001b[0;34m\u001b[0m\u001b[0m\n\u001b[1;32m   1449\u001b[0m \u001b[0;34m\u001b[0m\u001b[0m\n\u001b[0;32m-> 1450\u001b[0;31m         \u001b[0mself\u001b[0m\u001b[0;34m.\u001b[0m\u001b[0m_has_valid_tuple\u001b[0m\u001b[0;34m(\u001b[0m\u001b[0mtup\u001b[0m\u001b[0;34m)\u001b[0m\u001b[0;34m\u001b[0m\u001b[0;34m\u001b[0m\u001b[0m\n\u001b[0m\u001b[1;32m   1451\u001b[0m         \u001b[0;32mwith\u001b[0m \u001b[0msuppress\u001b[0m\u001b[0;34m(\u001b[0m\u001b[0mIndexingError\u001b[0m\u001b[0;34m)\u001b[0m\u001b[0;34m:\u001b[0m\u001b[0;34m\u001b[0m\u001b[0;34m\u001b[0m\u001b[0m\n\u001b[1;32m   1452\u001b[0m             \u001b[0;32mreturn\u001b[0m \u001b[0mself\u001b[0m\u001b[0;34m.\u001b[0m\u001b[0m_getitem_lowerdim\u001b[0m\u001b[0;34m(\u001b[0m\u001b[0mtup\u001b[0m\u001b[0;34m)\u001b[0m\u001b[0;34m\u001b[0m\u001b[0;34m\u001b[0m\u001b[0m\n",
      "\u001b[0;32m/usr/local/lib/python3.9/site-packages/pandas/core/indexing.py\u001b[0m in \u001b[0;36m_has_valid_tuple\u001b[0;34m(self, key)\u001b[0m\n\u001b[1;32m    721\u001b[0m         \u001b[0;32mfor\u001b[0m \u001b[0mi\u001b[0m\u001b[0;34m,\u001b[0m \u001b[0mk\u001b[0m \u001b[0;32min\u001b[0m \u001b[0menumerate\u001b[0m\u001b[0;34m(\u001b[0m\u001b[0mkey\u001b[0m\u001b[0;34m)\u001b[0m\u001b[0;34m:\u001b[0m\u001b[0;34m\u001b[0m\u001b[0;34m\u001b[0m\u001b[0m\n\u001b[1;32m    722\u001b[0m             \u001b[0;32mtry\u001b[0m\u001b[0;34m:\u001b[0m\u001b[0;34m\u001b[0m\u001b[0;34m\u001b[0m\u001b[0m\n\u001b[0;32m--> 723\u001b[0;31m                 \u001b[0mself\u001b[0m\u001b[0;34m.\u001b[0m\u001b[0m_validate_key\u001b[0m\u001b[0;34m(\u001b[0m\u001b[0mk\u001b[0m\u001b[0;34m,\u001b[0m \u001b[0mi\u001b[0m\u001b[0;34m)\u001b[0m\u001b[0;34m\u001b[0m\u001b[0;34m\u001b[0m\u001b[0m\n\u001b[0m\u001b[1;32m    724\u001b[0m             \u001b[0;32mexcept\u001b[0m \u001b[0mValueError\u001b[0m \u001b[0;32mas\u001b[0m \u001b[0merr\u001b[0m\u001b[0;34m:\u001b[0m\u001b[0;34m\u001b[0m\u001b[0;34m\u001b[0m\u001b[0m\n\u001b[1;32m    725\u001b[0m                 raise ValueError(\n",
      "\u001b[0;32m/usr/local/lib/python3.9/site-packages/pandas/core/indexing.py\u001b[0m in \u001b[0;36m_validate_key\u001b[0;34m(self, key, axis)\u001b[0m\n\u001b[1;32m   1356\u001b[0m             \u001b[0;32mreturn\u001b[0m\u001b[0;34m\u001b[0m\u001b[0;34m\u001b[0m\u001b[0m\n\u001b[1;32m   1357\u001b[0m         \u001b[0;32melif\u001b[0m \u001b[0mis_integer\u001b[0m\u001b[0;34m(\u001b[0m\u001b[0mkey\u001b[0m\u001b[0;34m)\u001b[0m\u001b[0;34m:\u001b[0m\u001b[0;34m\u001b[0m\u001b[0;34m\u001b[0m\u001b[0m\n\u001b[0;32m-> 1358\u001b[0;31m             \u001b[0mself\u001b[0m\u001b[0;34m.\u001b[0m\u001b[0m_validate_integer\u001b[0m\u001b[0;34m(\u001b[0m\u001b[0mkey\u001b[0m\u001b[0;34m,\u001b[0m \u001b[0maxis\u001b[0m\u001b[0;34m)\u001b[0m\u001b[0;34m\u001b[0m\u001b[0;34m\u001b[0m\u001b[0m\n\u001b[0m\u001b[1;32m   1359\u001b[0m         \u001b[0;32melif\u001b[0m \u001b[0misinstance\u001b[0m\u001b[0;34m(\u001b[0m\u001b[0mkey\u001b[0m\u001b[0;34m,\u001b[0m \u001b[0mtuple\u001b[0m\u001b[0;34m)\u001b[0m\u001b[0;34m:\u001b[0m\u001b[0;34m\u001b[0m\u001b[0;34m\u001b[0m\u001b[0m\n\u001b[1;32m   1360\u001b[0m             \u001b[0;31m# a tuple should already have been caught by this point\u001b[0m\u001b[0;34m\u001b[0m\u001b[0;34m\u001b[0m\u001b[0m\n",
      "\u001b[0;32m/usr/local/lib/python3.9/site-packages/pandas/core/indexing.py\u001b[0m in \u001b[0;36m_validate_integer\u001b[0;34m(self, key, axis)\u001b[0m\n\u001b[1;32m   1442\u001b[0m         \u001b[0mlen_axis\u001b[0m \u001b[0;34m=\u001b[0m \u001b[0mlen\u001b[0m\u001b[0;34m(\u001b[0m\u001b[0mself\u001b[0m\u001b[0;34m.\u001b[0m\u001b[0mobj\u001b[0m\u001b[0;34m.\u001b[0m\u001b[0m_get_axis\u001b[0m\u001b[0;34m(\u001b[0m\u001b[0maxis\u001b[0m\u001b[0;34m)\u001b[0m\u001b[0;34m)\u001b[0m\u001b[0;34m\u001b[0m\u001b[0;34m\u001b[0m\u001b[0m\n\u001b[1;32m   1443\u001b[0m         \u001b[0;32mif\u001b[0m \u001b[0mkey\u001b[0m \u001b[0;34m>=\u001b[0m \u001b[0mlen_axis\u001b[0m \u001b[0;32mor\u001b[0m \u001b[0mkey\u001b[0m \u001b[0;34m<\u001b[0m \u001b[0;34m-\u001b[0m\u001b[0mlen_axis\u001b[0m\u001b[0;34m:\u001b[0m\u001b[0;34m\u001b[0m\u001b[0;34m\u001b[0m\u001b[0m\n\u001b[0;32m-> 1444\u001b[0;31m             \u001b[0;32mraise\u001b[0m \u001b[0mIndexError\u001b[0m\u001b[0;34m(\u001b[0m\u001b[0;34m\"single positional indexer is out-of-bounds\"\u001b[0m\u001b[0;34m)\u001b[0m\u001b[0;34m\u001b[0m\u001b[0;34m\u001b[0m\u001b[0m\n\u001b[0m\u001b[1;32m   1445\u001b[0m \u001b[0;34m\u001b[0m\u001b[0m\n\u001b[1;32m   1446\u001b[0m     \u001b[0;31m# -------------------------------------------------------------------\u001b[0m\u001b[0;34m\u001b[0m\u001b[0;34m\u001b[0m\u001b[0m\n",
      "\u001b[0;31mIndexError\u001b[0m: single positional indexer is out-of-bounds"
     ]
    }
   ],
   "source": [
    "from sklearn.utils import resample \n",
    "df_minority = cc_original_train_df[cc_original_train_df.iloc[:,22].values==0] # .iloc[:,22] = is_fraud\n",
    "df_majority = cc_original_train_df[cc_original_train_df.iloc[:,22].values==1] \n",
    " \n",
    "# Downsample majority class\n",
    "df_minority_downsampled = resample(df_minority,\n",
    "                                 n_samples=7506,     # to match minority class\n",
    "                                 random_state=42)    # reproducible results\n",
    " \n",
    "# Combine minority class with downsampled majority class\n",
    "df_downsampled = pd.concat([df_minority_downsampled, df_majority])\n",
    " \n",
    "# Display new class counts\n",
    "df_downsampled.info()"
   ]
  },
  {
   "cell_type": "code",
   "execution_count": null,
   "id": "3708c0f3",
   "metadata": {
    "execution": {
     "iopub.execute_input": "2022-01-16T06:25:54.489541Z",
     "iopub.status.busy": "2022-01-16T06:25:54.488961Z",
     "iopub.status.idle": "2022-01-16T06:25:54.491259Z",
     "shell.execute_reply": "2022-01-16T06:25:54.491676Z",
     "shell.execute_reply.started": "2022-01-16T06:22:50.124089Z"
    },
    "papermill": {
     "duration": 0.051659,
     "end_time": "2022-01-16T06:25:54.491804",
     "exception": false,
     "start_time": "2022-01-16T06:25:54.440145",
     "status": "completed"
    },
    "tags": []
   },
   "outputs": [],
   "source": [
    "print(\"Number of is_fraud data\",df_downsampled['is_fraud'].value_counts())"
   ]
  },
  {
   "cell_type": "markdown",
   "id": "dddbe598",
   "metadata": {
    "papermill": {
     "duration": 0.04364,
     "end_time": "2022-01-16T06:25:54.579154",
     "exception": false,
     "start_time": "2022-01-16T06:25:54.535514",
     "status": "completed"
    },
    "tags": []
   },
   "source": [
    "Note: Now is_fraud = 0 and is_fruad = 1 have amount = 7506 both"
   ]
  },
  {
   "cell_type": "markdown",
   "id": "eb72a566",
   "metadata": {
    "papermill": {
     "duration": 0.042812,
     "end_time": "2022-01-16T06:25:54.666537",
     "exception": false,
     "start_time": "2022-01-16T06:25:54.623725",
     "status": "completed"
    },
    "tags": []
   },
   "source": [
    "# Data Tranformation\n",
    "## Transaction date time\n",
    "Add new columns week_number, month_number, year by trandform data fromtrans_date_trans_time feature\n",
    "\n",
    "### Train Data"
   ]
  },
  {
   "cell_type": "code",
   "execution_count": null,
   "id": "f3f8b5d8",
   "metadata": {
    "execution": {
     "iopub.execute_input": "2022-01-16T06:25:54.763787Z",
     "iopub.status.busy": "2022-01-16T06:25:54.763270Z",
     "iopub.status.idle": "2022-01-16T06:25:54.786356Z",
     "shell.execute_reply": "2022-01-16T06:25:54.786829Z",
     "shell.execute_reply.started": "2022-01-16T06:22:50.132255Z"
    },
    "papermill": {
     "duration": 0.076453,
     "end_time": "2022-01-16T06:25:54.786968",
     "exception": false,
     "start_time": "2022-01-16T06:25:54.710515",
     "status": "completed"
    },
    "tags": []
   },
   "outputs": [],
   "source": [
    "# Train data\n",
    "# Change date to be date type\n",
    "df_downsampled['trans_date_trans_time'] = pd.to_datetime(df_downsampled['trans_date_trans_time'])\n",
    "# Create column week number\n",
    "df_downsampled['week_number'] = df_downsampled['trans_date_trans_time'].dt.dayofweek\n",
    "assert df_downsampled['week_number'].max() == 6\n",
    "# Create column month number\n",
    "df_downsampled['month_number'] = df_downsampled['trans_date_trans_time'].dt.month\n",
    "assert df_downsampled['month_number'].max() == 12\n",
    "# Create column year\n",
    "df_downsampled['year'] = df_downsampled['trans_date_trans_time'].dt.year\n",
    "df_downsampled.head()"
   ]
  },
  {
   "cell_type": "markdown",
   "id": "bbdc86b8",
   "metadata": {
    "papermill": {
     "duration": 0.043536,
     "end_time": "2022-01-16T06:25:54.875671",
     "exception": false,
     "start_time": "2022-01-16T06:25:54.832135",
     "status": "completed"
    },
    "tags": []
   },
   "source": [
    "### Test Data"
   ]
  },
  {
   "cell_type": "code",
   "execution_count": null,
   "id": "d05f9253",
   "metadata": {
    "execution": {
     "iopub.execute_input": "2022-01-16T06:25:55.046716Z",
     "iopub.status.busy": "2022-01-16T06:25:54.967231Z",
     "iopub.status.idle": "2022-01-16T06:25:55.184328Z",
     "shell.execute_reply": "2022-01-16T06:25:55.184730Z",
     "shell.execute_reply.started": "2022-01-16T06:22:50.182205Z"
    },
    "papermill": {
     "duration": 0.2645,
     "end_time": "2022-01-16T06:25:55.184868",
     "exception": false,
     "start_time": "2022-01-16T06:25:54.920368",
     "status": "completed"
    },
    "tags": []
   },
   "outputs": [],
   "source": [
    "# Test Data\n",
    "# Change date to be date type\n",
    "cc_original_test_df['trans_date_trans_time'] = pd.to_datetime(cc_original_test_df['trans_date_trans_time'])\n",
    "# Create column week number\n",
    "cc_original_test_df['week_number'] = cc_original_test_df['trans_date_trans_time'].dt.dayofweek\n",
    "assert cc_original_test_df['week_number'].max() == 6\n",
    "# Create column month number\n",
    "cc_original_test_df['month_number'] = cc_original_test_df['trans_date_trans_time'].dt.month\n",
    "assert cc_original_test_df['month_number'].max() == 12\n",
    "# Create column year\n",
    "cc_original_test_df['year'] = cc_original_test_df['trans_date_trans_time'].dt.year\n",
    "cc_original_test_df.head()"
   ]
  },
  {
   "cell_type": "markdown",
   "id": "6cf20514",
   "metadata": {
    "papermill": {
     "duration": 0.044748,
     "end_time": "2022-01-16T06:25:55.274365",
     "exception": false,
     "start_time": "2022-01-16T06:25:55.229617",
     "status": "completed"
    },
    "tags": []
   },
   "source": [
    "## Category (One-Hot Endcoding)\n",
    "Category is Nominal Data that cannot work with model,So I will change category to numerical by One Hot Encoding\n",
    "\n",
    "### Train Data"
   ]
  },
  {
   "cell_type": "code",
   "execution_count": null,
   "id": "9e971c4e",
   "metadata": {
    "execution": {
     "iopub.execute_input": "2022-01-16T06:25:55.369629Z",
     "iopub.status.busy": "2022-01-16T06:25:55.369139Z",
     "iopub.status.idle": "2022-01-16T06:25:55.403757Z",
     "shell.execute_reply": "2022-01-16T06:25:55.404225Z",
     "shell.execute_reply.started": "2022-01-16T06:22:50.583053Z"
    },
    "papermill": {
     "duration": 0.084859,
     "end_time": "2022-01-16T06:25:55.404366",
     "exception": false,
     "start_time": "2022-01-16T06:25:55.319507",
     "status": "completed"
    },
    "tags": []
   },
   "outputs": [],
   "source": [
    "category_onehot = pd.get_dummies(df_downsampled.category, prefix='category')\n",
    "df_downsampled = df_downsampled.join(category_onehot)\n",
    "df_downsampled.head()"
   ]
  },
  {
   "cell_type": "markdown",
   "id": "3766a97d",
   "metadata": {
    "papermill": {
     "duration": 0.044853,
     "end_time": "2022-01-16T06:25:55.495314",
     "exception": false,
     "start_time": "2022-01-16T06:25:55.450461",
     "status": "completed"
    },
    "tags": []
   },
   "source": [
    "### Test Data"
   ]
  },
  {
   "cell_type": "code",
   "execution_count": null,
   "id": "b3b4ad7b",
   "metadata": {
    "execution": {
     "iopub.execute_input": "2022-01-16T06:25:55.598644Z",
     "iopub.status.busy": "2022-01-16T06:25:55.588807Z",
     "iopub.status.idle": "2022-01-16T06:25:55.730459Z",
     "shell.execute_reply": "2022-01-16T06:25:55.730050Z",
     "shell.execute_reply.started": "2022-01-16T06:22:50.633415Z"
    },
    "papermill": {
     "duration": 0.189629,
     "end_time": "2022-01-16T06:25:55.730570",
     "exception": false,
     "start_time": "2022-01-16T06:25:55.540941",
     "status": "completed"
    },
    "tags": []
   },
   "outputs": [],
   "source": [
    "category_onehot_test_data = pd.get_dummies(cc_original_test_df.category, prefix='category')\n",
    "cc_original_test_df = cc_original_test_df.join(category_onehot_test_data)\n",
    "cc_original_test_df.head()"
   ]
  },
  {
   "cell_type": "markdown",
   "id": "3dbbe574",
   "metadata": {
    "papermill": {
     "duration": 0.046482,
     "end_time": "2022-01-16T06:25:55.823038",
     "exception": false,
     "start_time": "2022-01-16T06:25:55.776556",
     "status": "completed"
    },
    "tags": []
   },
   "source": [
    "## Gender\n",
    "Change gender from nominal to numerical"
   ]
  },
  {
   "cell_type": "code",
   "execution_count": null,
   "id": "9abc69d5",
   "metadata": {
    "execution": {
     "iopub.execute_input": "2022-01-16T06:25:55.921309Z",
     "iopub.status.busy": "2022-01-16T06:25:55.920712Z",
     "iopub.status.idle": "2022-01-16T06:25:56.102099Z",
     "shell.execute_reply": "2022-01-16T06:25:56.102637Z",
     "shell.execute_reply.started": "2022-01-16T06:22:50.824612Z"
    },
    "papermill": {
     "duration": 0.23313,
     "end_time": "2022-01-16T06:25:56.102809",
     "exception": false,
     "start_time": "2022-01-16T06:25:55.869679",
     "status": "completed"
    },
    "tags": []
   },
   "outputs": [],
   "source": [
    "# Train data\n",
    "df_downsampled['gender'] = df_downsampled['gender'].replace(['F','M'],[0,1])\n",
    "# Test data\n",
    "cc_original_test_df['gender'] = cc_original_test_df['gender'].replace(['F','M'],[0,1])\n",
    "\n",
    "print('Gender of train dataset', df_downsampled['gender'].value_counts())\n",
    "print('Gender of test dataset', cc_original_test_df['gender'].value_counts())"
   ]
  },
  {
   "cell_type": "markdown",
   "id": "340f477c",
   "metadata": {
    "papermill": {
     "duration": 0.04596,
     "end_time": "2022-01-16T06:25:56.196117",
     "exception": false,
     "start_time": "2022-01-16T06:25:56.150157",
     "status": "completed"
    },
    "tags": []
   },
   "source": [
    "## Merchant\n",
    "Convert Marchant to be numerical data"
   ]
  },
  {
   "cell_type": "code",
   "execution_count": null,
   "id": "ce6ec4f6",
   "metadata": {
    "execution": {
     "iopub.execute_input": "2022-01-16T06:25:56.333664Z",
     "iopub.status.busy": "2022-01-16T06:25:56.318271Z",
     "iopub.status.idle": "2022-01-16T06:25:56.405086Z",
     "shell.execute_reply": "2022-01-16T06:25:56.405538Z",
     "shell.execute_reply.started": "2022-01-16T06:22:51.058675Z"
    },
    "papermill": {
     "duration": 0.162875,
     "end_time": "2022-01-16T06:25:56.405678",
     "exception": false,
     "start_time": "2022-01-16T06:25:56.242803",
     "status": "completed"
    },
    "tags": []
   },
   "outputs": [],
   "source": [
    "# Train data\n",
    "from sklearn.preprocessing import LabelEncoder\n",
    "label_encoder = LabelEncoder()\n",
    "x_train = df_downsampled['merchant']\n",
    "df_downsampled['merchant_number'] = label_encoder.fit_transform(x_train)\n",
    "\n",
    "# Test data\n",
    "x_test = cc_original_test_df['merchant']\n",
    "cc_original_test_df['merchant_number'] = label_encoder.fit_transform(x_test)\n",
    "\n",
    "print('Merchant Number of train dataset',df_downsampled['merchant_number'])\n",
    "print('Merchant Number of test dataset',cc_original_test_df['merchant_number'])"
   ]
  },
  {
   "cell_type": "markdown",
   "id": "f7d3f31d",
   "metadata": {
    "papermill": {
     "duration": 0.045817,
     "end_time": "2022-01-16T06:25:56.497756",
     "exception": false,
     "start_time": "2022-01-16T06:25:56.451939",
     "status": "completed"
    },
    "tags": []
   },
   "source": [
    "## Age\n",
    "Find Age from date of birth data"
   ]
  },
  {
   "cell_type": "code",
   "execution_count": null,
   "id": "5e6601fb",
   "metadata": {
    "execution": {
     "iopub.execute_input": "2022-01-16T06:25:56.593351Z",
     "iopub.status.busy": "2022-01-16T06:25:56.592892Z",
     "iopub.status.idle": "2022-01-16T06:26:18.281506Z",
     "shell.execute_reply": "2022-01-16T06:26:18.281019Z",
     "shell.execute_reply.started": "2022-01-16T06:22:51.186329Z"
    },
    "papermill": {
     "duration": 21.737372,
     "end_time": "2022-01-16T06:26:18.281612",
     "exception": false,
     "start_time": "2022-01-16T06:25:56.544240",
     "status": "completed"
    },
    "tags": []
   },
   "outputs": [],
   "source": [
    "from datetime import date\n",
    "def calculate_age(row):\n",
    "    today = date.today()\n",
    "    return today.year - row['dob'].year - ((today.month, today.day) < (row['dob'].month, row['dob'].day))\n",
    "\n",
    "# Train data\n",
    "df_downsampled['dob'] = pd.to_datetime(df_downsampled['dob'])\n",
    "df_downsampled['age'] = df_downsampled['dob']\n",
    "df_downsampled['age'] = df_downsampled.apply (lambda row: calculate_age(row), axis=1)\n",
    "\n",
    "# Test data\n",
    "cc_original_test_df['dob'] = pd.to_datetime(cc_original_test_df['dob'])\n",
    "cc_original_test_df['age'] = cc_original_test_df['dob']\n",
    "cc_original_test_df['age'] = cc_original_test_df.apply (lambda row: calculate_age(row), axis=1)\n",
    "\n",
    "print('Age of train dataset', df_downsampled['age'].head(3))\n",
    "print('Age of test dataset', cc_original_test_df['age'].head(3))"
   ]
  },
  {
   "cell_type": "markdown",
   "id": "6b7ce91a",
   "metadata": {
    "papermill": {
     "duration": 0.04661,
     "end_time": "2022-01-16T06:26:18.375746",
     "exception": false,
     "start_time": "2022-01-16T06:26:18.329136",
     "status": "completed"
    },
    "tags": []
   },
   "source": [
    "### Job\n",
    "Convert Marchant to be numerical data"
   ]
  },
  {
   "cell_type": "code",
   "execution_count": null,
   "id": "ee93f439",
   "metadata": {
    "execution": {
     "iopub.execute_input": "2022-01-16T06:26:18.477110Z",
     "iopub.status.busy": "2022-01-16T06:26:18.476660Z",
     "iopub.status.idle": "2022-01-16T06:26:18.720316Z",
     "shell.execute_reply": "2022-01-16T06:26:18.719927Z",
     "shell.execute_reply.started": "2022-01-16T06:23:09.083323Z"
    },
    "papermill": {
     "duration": 0.298025,
     "end_time": "2022-01-16T06:26:18.720434",
     "exception": false,
     "start_time": "2022-01-16T06:26:18.422409",
     "status": "completed"
    },
    "tags": []
   },
   "outputs": [],
   "source": [
    "from sklearn.preprocessing import LabelEncoder\n",
    "label_encoder = LabelEncoder()\n",
    "\n",
    "# Train data\n",
    "x_train = df_downsampled['job']\n",
    "df_downsampled['job_number'] = label_encoder.fit_transform(x_train)\n",
    "print(df_downsampled['job_number'])\n",
    "\n",
    "# Test data\n",
    "x_test = cc_original_test_df['job']\n",
    "cc_original_test_df['job_number'] = label_encoder.fit_transform(x_test)\n",
    "print(cc_original_test_df['job_number'])"
   ]
  },
  {
   "cell_type": "markdown",
   "id": "c38e2d5f",
   "metadata": {
    "papermill": {
     "duration": 0.047999,
     "end_time": "2022-01-16T06:26:18.815178",
     "exception": false,
     "start_time": "2022-01-16T06:26:18.767179",
     "status": "completed"
    },
    "tags": []
   },
   "source": [
    "# Select Data\n",
    "For select features I would like to do 2 experiments: ExtraTreesClassifier, .abs().nlargest(), because i would like to find the best acurrency and the best prediction\n",
    "\n",
    "So, This project I will try and compare for my reader"
   ]
  },
  {
   "cell_type": "code",
   "execution_count": null,
   "id": "58feaa34",
   "metadata": {
    "execution": {
     "iopub.execute_input": "2022-01-16T06:26:18.913893Z",
     "iopub.status.busy": "2022-01-16T06:26:18.913410Z",
     "iopub.status.idle": "2022-01-16T06:26:18.915913Z",
     "shell.execute_reply": "2022-01-16T06:26:18.916353Z",
     "shell.execute_reply.started": "2022-01-16T06:23:09.214229Z"
    },
    "papermill": {
     "duration": 0.054487,
     "end_time": "2022-01-16T06:26:18.916510",
     "exception": false,
     "start_time": "2022-01-16T06:26:18.862023",
     "status": "completed"
    },
    "tags": []
   },
   "outputs": [],
   "source": [
    "# Unselect converted data\n",
    "select_data = df_downsampled\n",
    "select_data.columns"
   ]
  },
  {
   "cell_type": "code",
   "execution_count": null,
   "id": "7de834ff",
   "metadata": {
    "execution": {
     "iopub.execute_input": "2022-01-16T06:26:19.013944Z",
     "iopub.status.busy": "2022-01-16T06:26:19.013283Z",
     "iopub.status.idle": "2022-01-16T06:26:19.039944Z",
     "shell.execute_reply": "2022-01-16T06:26:19.040403Z",
     "shell.execute_reply.started": "2022-01-16T06:23:09.222785Z"
    },
    "papermill": {
     "duration": 0.076537,
     "end_time": "2022-01-16T06:26:19.040547",
     "exception": false,
     "start_time": "2022-01-16T06:26:18.964010",
     "status": "completed"
    },
    "tags": []
   },
   "outputs": [],
   "source": [
    "select_data = select_data[['cc_num',\n",
    "       'amt', 'gender', 'zip',\n",
    "       'lat', 'long', 'city_pop', 'unix_time',\n",
    "       'merch_lat', 'merch_long', 'age', 'job_number',\n",
    "       'week_number', 'month_number', 'year', 'category_entertainment',\n",
    "       'category_food_dining', 'category_gas_transport',\n",
    "       'category_grocery_net', 'category_grocery_pos',\n",
    "       'category_health_fitness', 'category_home', 'category_kids_pets',\n",
    "       'category_misc_net', 'category_misc_pos', 'category_personal_care',\n",
    "       'category_shopping_net', 'category_shopping_pos', 'category_travel',\n",
    "       'merchant_number','is_fraud']]\n",
    "select_data.head()"
   ]
  },
  {
   "cell_type": "markdown",
   "id": "9a248392",
   "metadata": {
    "papermill": {
     "duration": 0.049715,
     "end_time": "2022-01-16T06:26:19.140205",
     "exception": false,
     "start_time": "2022-01-16T06:26:19.090490",
     "status": "completed"
    },
    "tags": []
   },
   "source": [
    "## ExtraTreesClassifier"
   ]
  },
  {
   "cell_type": "code",
   "execution_count": null,
   "id": "a69cdaf1",
   "metadata": {
    "execution": {
     "iopub.execute_input": "2022-01-16T06:26:19.239182Z",
     "iopub.status.busy": "2022-01-16T06:26:19.238592Z",
     "iopub.status.idle": "2022-01-16T06:26:20.063271Z",
     "shell.execute_reply": "2022-01-16T06:26:20.062712Z",
     "shell.execute_reply.started": "2022-01-16T06:23:09.253008Z"
    },
    "papermill": {
     "duration": 0.875211,
     "end_time": "2022-01-16T06:26:20.063434",
     "exception": false,
     "start_time": "2022-01-16T06:26:19.188223",
     "status": "completed"
    },
    "tags": []
   },
   "outputs": [],
   "source": [
    "X = select_data.iloc[:,0:31]  #independent columns\n",
    "y = select_data.iloc[:,-1]    #target column i.e price range\n",
    "from sklearn.ensemble import ExtraTreesClassifier\n",
    "import matplotlib.pyplot as plt\n",
    "model = ExtraTreesClassifier()\n",
    "model.fit(X,y)\n",
    "print(model.feature_importances_) #use inbuilt class feature_importances of tree based classifiers\n",
    "#plot graph of feature importances for better visualization\n",
    "feat_importances = pd.Series(model.feature_importances_, index=X.columns)\n",
    "feat_importances.nlargest(15).plot(kind='barh')\n",
    "plt.show()"
   ]
  },
  {
   "cell_type": "markdown",
   "id": "f64103cc",
   "metadata": {
    "papermill": {
     "duration": 0.075481,
     "end_time": "2022-01-16T06:26:20.215400",
     "exception": false,
     "start_time": "2022-01-16T06:26:20.139919",
     "status": "completed"
    },
    "tags": []
   },
   "source": [
    "## nlargest"
   ]
  },
  {
   "cell_type": "code",
   "execution_count": null,
   "id": "8c0f36c4",
   "metadata": {
    "execution": {
     "iopub.execute_input": "2022-01-16T06:26:20.369573Z",
     "iopub.status.busy": "2022-01-16T06:26:20.368937Z",
     "iopub.status.idle": "2022-01-16T06:26:20.400780Z",
     "shell.execute_reply": "2022-01-16T06:26:20.401457Z",
     "shell.execute_reply.started": "2022-01-16T06:23:10.030406Z"
    },
    "papermill": {
     "duration": 0.110338,
     "end_time": "2022-01-16T06:26:20.401629",
     "exception": false,
     "start_time": "2022-01-16T06:26:20.291291",
     "status": "completed"
    },
    "tags": []
   },
   "outputs": [],
   "source": [
    "print(select_data.corr().abs().nlargest(15, 'is_fraud').index)"
   ]
  },
  {
   "cell_type": "code",
   "execution_count": null,
   "id": "48d590b6",
   "metadata": {
    "execution": {
     "iopub.execute_input": "2022-01-16T06:26:20.558406Z",
     "iopub.status.busy": "2022-01-16T06:26:20.557769Z",
     "iopub.status.idle": "2022-01-16T06:26:20.560768Z",
     "shell.execute_reply": "2022-01-16T06:26:20.561304Z",
     "shell.execute_reply.started": "2022-01-16T06:23:10.082391Z"
    },
    "papermill": {
     "duration": 0.083496,
     "end_time": "2022-01-16T06:26:20.561468",
     "exception": false,
     "start_time": "2022-01-16T06:26:20.477972",
     "status": "completed"
    },
    "tags": []
   },
   "outputs": [],
   "source": [
    "#Select Train Data\n",
    "select_data_train_extra_tree = df_downsampled[['amt','category_shopping_net','category_grocery_pos','category_home','category_misc_net',\n",
    "                                         'category_kids_pets','category_health_fitness','gender','age','month_number',\n",
    "                                         'category_food_dining','unix_time','category_personal_care','category_shopping_pos','is_fraud']]\n",
    "\n",
    "select_data_train_abs_nlargest = df_downsampled[['amt', 'category_shopping_net', 'category_grocery_pos',\n",
    "                                        'category_home', 'category_misc_net', 'category_kids_pets',\n",
    "                                        'category_health_fitness', 'category_food_dining',\n",
    "                                        'category_personal_care', 'month_number', 'category_entertainment',\n",
    "                                        'age', 'category_misc_pos', 'gender','is_fraud']]"
   ]
  },
  {
   "cell_type": "code",
   "execution_count": null,
   "id": "b34f27a5",
   "metadata": {
    "execution": {
     "iopub.execute_input": "2022-01-16T06:26:20.714247Z",
     "iopub.status.busy": "2022-01-16T06:26:20.713638Z",
     "iopub.status.idle": "2022-01-16T06:26:20.737027Z",
     "shell.execute_reply": "2022-01-16T06:26:20.737596Z",
     "shell.execute_reply.started": "2022-01-16T06:23:10.091829Z"
    },
    "papermill": {
     "duration": 0.101234,
     "end_time": "2022-01-16T06:26:20.737725",
     "exception": false,
     "start_time": "2022-01-16T06:26:20.636491",
     "status": "completed"
    },
    "tags": []
   },
   "outputs": [],
   "source": [
    "#Select Test Data\n",
    "select_data_test_extra_tree = cc_original_test_df[['amt','category_shopping_net','category_grocery_pos','category_home','category_misc_net',\n",
    "                                         'category_kids_pets','category_health_fitness','gender','age','month_number',\n",
    "                                         'category_food_dining','unix_time','category_personal_care','category_shopping_pos','is_fraud']]\n",
    "\n",
    "select_data_test_abs_nlargest = cc_original_test_df[['amt', 'category_shopping_net', 'category_grocery_pos',\n",
    "                                        'category_home', 'category_misc_net', 'category_kids_pets',\n",
    "                                        'category_health_fitness', 'category_food_dining',\n",
    "                                        'category_personal_care', 'month_number', 'category_entertainment',\n",
    "                                        'age', 'category_misc_pos', 'gender','is_fraud']]"
   ]
  },
  {
   "cell_type": "code",
   "execution_count": null,
   "id": "5482698b",
   "metadata": {
    "execution": {
     "iopub.execute_input": "2022-01-16T06:26:20.890710Z",
     "iopub.status.busy": "2022-01-16T06:26:20.890067Z",
     "iopub.status.idle": "2022-01-16T06:26:20.897643Z",
     "shell.execute_reply": "2022-01-16T06:26:20.897105Z",
     "shell.execute_reply.started": "2022-01-16T06:23:10.167772Z"
    },
    "papermill": {
     "duration": 0.085124,
     "end_time": "2022-01-16T06:26:20.897761",
     "exception": false,
     "start_time": "2022-01-16T06:26:20.812637",
     "status": "completed"
    },
    "tags": []
   },
   "outputs": [],
   "source": [
    "# Prepare X_train y_train\n",
    "X_train_extra_tree = select_data_train_extra_tree[['amt','category_shopping_net','category_grocery_pos','category_home','category_misc_net',\n",
    "                                         'category_kids_pets','category_health_fitness','gender','age','month_number',\n",
    "                                         'category_food_dining','unix_time','category_personal_care','category_shopping_pos']]\n",
    "y_train_extra_tree = select_data_train_extra_tree['is_fraud']\n",
    "\n",
    "X_train_abs_nlargest = select_data_train_abs_nlargest[['amt', 'category_shopping_net', 'category_grocery_pos',\n",
    "                                        'category_home', 'category_misc_net', 'category_kids_pets',\n",
    "                                        'category_health_fitness', 'category_food_dining',\n",
    "                                        'category_personal_care', 'month_number', 'category_entertainment',\n",
    "                                        'age', 'category_misc_pos', 'gender']]\n",
    "y_train_abs_nlargest = select_data_train_abs_nlargest['is_fraud']"
   ]
  },
  {
   "cell_type": "code",
   "execution_count": null,
   "id": "e6bf0573",
   "metadata": {
    "execution": {
     "iopub.execute_input": "2022-01-16T06:26:21.056170Z",
     "iopub.status.busy": "2022-01-16T06:26:21.055565Z",
     "iopub.status.idle": "2022-01-16T06:26:21.071042Z",
     "shell.execute_reply": "2022-01-16T06:26:21.070541Z",
     "shell.execute_reply.started": "2022-01-16T06:23:10.178399Z"
    },
    "papermill": {
     "duration": 0.098348,
     "end_time": "2022-01-16T06:26:21.071155",
     "exception": false,
     "start_time": "2022-01-16T06:26:20.972807",
     "status": "completed"
    },
    "tags": []
   },
   "outputs": [],
   "source": [
    "# Prepare X_test y_test\n",
    "X_test_extra_tree = select_data_test_extra_tree[['amt','category_shopping_net','category_grocery_pos','category_home','category_misc_net',\n",
    "                                         'category_kids_pets','category_health_fitness','gender','age','month_number',\n",
    "                                         'category_food_dining','unix_time','category_personal_care','category_shopping_pos']]\n",
    "y_test_extra_tree = select_data_test_extra_tree['is_fraud']\n",
    "\n",
    "X_test_abs_nlargest = select_data_test_abs_nlargest[['amt', 'category_shopping_net', 'category_grocery_pos',\n",
    "                                        'category_home', 'category_misc_net', 'category_kids_pets',\n",
    "                                        'category_health_fitness', 'category_food_dining',\n",
    "                                        'category_personal_care', 'month_number', 'category_entertainment',\n",
    "                                        'age', 'category_misc_pos', 'gender']]\n",
    "y_test_abs_nlargest = select_data_test_abs_nlargest['is_fraud']"
   ]
  },
  {
   "cell_type": "markdown",
   "id": "d1291910",
   "metadata": {
    "papermill": {
     "duration": 0.074727,
     "end_time": "2022-01-16T06:26:21.220995",
     "exception": false,
     "start_time": "2022-01-16T06:26:21.146268",
     "status": "completed"
    },
    "tags": []
   },
   "source": [
    "# Scaler Data"
   ]
  },
  {
   "cell_type": "code",
   "execution_count": null,
   "id": "ee4dcba4",
   "metadata": {
    "execution": {
     "iopub.execute_input": "2022-01-16T06:26:21.377034Z",
     "iopub.status.busy": "2022-01-16T06:26:21.376174Z",
     "iopub.status.idle": "2022-01-16T06:26:21.378147Z",
     "shell.execute_reply": "2022-01-16T06:26:21.378676Z",
     "shell.execute_reply.started": "2022-01-16T06:23:10.219456Z"
    },
    "papermill": {
     "duration": 0.082742,
     "end_time": "2022-01-16T06:26:21.378829",
     "exception": false,
     "start_time": "2022-01-16T06:26:21.296087",
     "status": "completed"
    },
    "tags": []
   },
   "outputs": [],
   "source": [
    "from sklearn import preprocessing"
   ]
  },
  {
   "cell_type": "markdown",
   "id": "69350dce",
   "metadata": {
    "papermill": {
     "duration": 0.048839,
     "end_time": "2022-01-16T06:26:21.483284",
     "exception": false,
     "start_time": "2022-01-16T06:26:21.434445",
     "status": "completed"
    },
    "tags": []
   },
   "source": [
    "### Scaler Train Data"
   ]
  },
  {
   "cell_type": "code",
   "execution_count": null,
   "id": "32ddde05",
   "metadata": {
    "execution": {
     "iopub.execute_input": "2022-01-16T06:26:21.585044Z",
     "iopub.status.busy": "2022-01-16T06:26:21.584590Z",
     "iopub.status.idle": "2022-01-16T06:26:21.611413Z",
     "shell.execute_reply": "2022-01-16T06:26:21.611008Z",
     "shell.execute_reply.started": "2022-01-16T06:23:10.225303Z"
    },
    "papermill": {
     "duration": 0.078643,
     "end_time": "2022-01-16T06:26:21.611523",
     "exception": false,
     "start_time": "2022-01-16T06:26:21.532880",
     "status": "completed"
    },
    "tags": []
   },
   "outputs": [],
   "source": [
    "# Scale X_train\n",
    "# Extra Tree\n",
    "scaler = preprocessing.MinMaxScaler()\n",
    "newValue = scaler.fit_transform(X_train_extra_tree)\n",
    "X_train_extra_tree_scaler = pd.DataFrame(newValue, columns=X_train_extra_tree.columns)\n",
    "X_train_extra_tree_scaler"
   ]
  },
  {
   "cell_type": "code",
   "execution_count": null,
   "id": "8e767c00",
   "metadata": {
    "execution": {
     "iopub.execute_input": "2022-01-16T06:26:21.716644Z",
     "iopub.status.busy": "2022-01-16T06:26:21.716144Z",
     "iopub.status.idle": "2022-01-16T06:26:21.739866Z",
     "shell.execute_reply": "2022-01-16T06:26:21.740274Z",
     "shell.execute_reply.started": "2022-01-16T06:23:10.266513Z"
    },
    "papermill": {
     "duration": 0.079132,
     "end_time": "2022-01-16T06:26:21.740443",
     "exception": false,
     "start_time": "2022-01-16T06:26:21.661311",
     "status": "completed"
    },
    "tags": []
   },
   "outputs": [],
   "source": [
    "# Abs\n",
    "scaler = preprocessing.MinMaxScaler()\n",
    "newValue = scaler.fit_transform(X_train_abs_nlargest)\n",
    "X_train_abs_nlargest_scaler = pd.DataFrame(newValue, columns=X_train_abs_nlargest.columns)\n",
    "X_train_abs_nlargest_scaler"
   ]
  },
  {
   "cell_type": "markdown",
   "id": "dbd8b3b0",
   "metadata": {
    "papermill": {
     "duration": 0.050882,
     "end_time": "2022-01-16T06:26:21.842185",
     "exception": false,
     "start_time": "2022-01-16T06:26:21.791303",
     "status": "completed"
    },
    "tags": []
   },
   "source": [
    "### Scaler Test Data"
   ]
  },
  {
   "cell_type": "code",
   "execution_count": null,
   "id": "f4d0a0a5",
   "metadata": {
    "execution": {
     "iopub.execute_input": "2022-01-16T06:26:21.946939Z",
     "iopub.status.busy": "2022-01-16T06:26:21.946480Z",
     "iopub.status.idle": "2022-01-16T06:26:22.018924Z",
     "shell.execute_reply": "2022-01-16T06:26:22.019297Z",
     "shell.execute_reply.started": "2022-01-16T06:23:10.300851Z"
    },
    "papermill": {
     "duration": 0.125904,
     "end_time": "2022-01-16T06:26:22.019461",
     "exception": false,
     "start_time": "2022-01-16T06:26:21.893557",
     "status": "completed"
    },
    "tags": []
   },
   "outputs": [],
   "source": [
    "# Scale X_test\n",
    "# Extra Tree\n",
    "scaler = preprocessing.MinMaxScaler()\n",
    "newValue = scaler.fit_transform(X_test_extra_tree)\n",
    "X_test_extra_tree_scaler = pd.DataFrame(newValue, columns=X_test_extra_tree.columns)\n",
    "X_test_extra_tree_scaler"
   ]
  },
  {
   "cell_type": "code",
   "execution_count": null,
   "id": "6fd0a9da",
   "metadata": {
    "execution": {
     "iopub.execute_input": "2022-01-16T06:26:22.124398Z",
     "iopub.status.busy": "2022-01-16T06:26:22.123896Z",
     "iopub.status.idle": "2022-01-16T06:26:22.194646Z",
     "shell.execute_reply": "2022-01-16T06:26:22.194163Z",
     "shell.execute_reply.started": "2022-01-16T06:23:10.432238Z"
    },
    "papermill": {
     "duration": 0.123432,
     "end_time": "2022-01-16T06:26:22.194747",
     "exception": false,
     "start_time": "2022-01-16T06:26:22.071315",
     "status": "completed"
    },
    "tags": []
   },
   "outputs": [],
   "source": [
    "# nlargest\n",
    "scaler = preprocessing.MinMaxScaler()\n",
    "newValue = scaler.fit_transform(X_test_abs_nlargest)\n",
    "X_test_abs_nlargest_scaler = pd.DataFrame(newValue, columns=X_test_abs_nlargest.columns)\n",
    "X_test_abs_nlargest_scaler"
   ]
  },
  {
   "cell_type": "markdown",
   "id": "cc41ee37",
   "metadata": {
    "papermill": {
     "duration": 0.050324,
     "end_time": "2022-01-16T06:26:22.295651",
     "exception": false,
     "start_time": "2022-01-16T06:26:22.245327",
     "status": "completed"
    },
    "tags": []
   },
   "source": [
    "# Model\n",
    "## LogisticRegression"
   ]
  },
  {
   "cell_type": "code",
   "execution_count": null,
   "id": "cc26168f",
   "metadata": {
    "execution": {
     "iopub.execute_input": "2022-01-16T06:26:22.400443Z",
     "iopub.status.busy": "2022-01-16T06:26:22.399953Z",
     "iopub.status.idle": "2022-01-16T06:26:22.402859Z",
     "shell.execute_reply": "2022-01-16T06:26:22.403291Z",
     "shell.execute_reply.started": "2022-01-16T06:23:10.557806Z"
    },
    "papermill": {
     "duration": 0.056918,
     "end_time": "2022-01-16T06:26:22.403417",
     "exception": false,
     "start_time": "2022-01-16T06:26:22.346499",
     "status": "completed"
    },
    "tags": []
   },
   "outputs": [],
   "source": [
    "from sklearn.linear_model import LogisticRegression\n",
    "from sklearn import preprocessing\n",
    "from sklearn.model_selection import  cross_val_score\n",
    "from sklearn.metrics import confusion_matrix\n",
    "from sklearn.metrics import classification_report, confusion_matrix"
   ]
  },
  {
   "cell_type": "code",
   "execution_count": null,
   "id": "a2f642f9",
   "metadata": {
    "execution": {
     "iopub.execute_input": "2022-01-16T06:26:22.507467Z",
     "iopub.status.busy": "2022-01-16T06:26:22.506998Z",
     "iopub.status.idle": "2022-01-16T06:26:22.591468Z",
     "shell.execute_reply": "2022-01-16T06:26:22.592036Z",
     "shell.execute_reply.started": "2022-01-16T06:23:10.563827Z"
    },
    "papermill": {
     "duration": 0.138131,
     "end_time": "2022-01-16T06:26:22.592204",
     "exception": false,
     "start_time": "2022-01-16T06:26:22.454073",
     "status": "completed"
    },
    "tags": []
   },
   "outputs": [],
   "source": [
    "# Extra Tree\n",
    "model_ext = LogisticRegression(random_state=42)\n",
    "model_ext.fit(X_train_extra_tree_scaler, y_train_extra_tree)\n",
    "\n",
    "# nlargest\n",
    "model_nr = LogisticRegression(random_state=42)\n",
    "model_nr.fit(X_train_abs_nlargest_scaler, y_train_abs_nlargest)"
   ]
  },
  {
   "cell_type": "code",
   "execution_count": null,
   "id": "6fa0266a",
   "metadata": {
    "execution": {
     "iopub.execute_input": "2022-01-16T06:26:22.727431Z",
     "iopub.status.busy": "2022-01-16T06:26:22.726798Z",
     "iopub.status.idle": "2022-01-16T06:26:22.745373Z",
     "shell.execute_reply": "2022-01-16T06:26:22.746018Z",
     "shell.execute_reply.started": "2022-01-16T06:23:10.732426Z"
    },
    "papermill": {
     "duration": 0.086556,
     "end_time": "2022-01-16T06:26:22.746220",
     "exception": false,
     "start_time": "2022-01-16T06:26:22.659664",
     "status": "completed"
    },
    "tags": []
   },
   "outputs": [],
   "source": [
    "# Extra Tree - Predict\n",
    "y_pred_extra_tree_scaler = model_ext.predict(X_test_extra_tree_scaler)\n",
    "\n",
    "# nlargest - Predict\n",
    "y_pred_abs_nlargest_scaler = model_nr.predict(X_test_abs_nlargest_scaler)"
   ]
  },
  {
   "cell_type": "code",
   "execution_count": null,
   "id": "3ad27895",
   "metadata": {
    "execution": {
     "iopub.execute_input": "2022-01-16T06:26:22.932022Z",
     "iopub.status.busy": "2022-01-16T06:26:22.931352Z",
     "iopub.status.idle": "2022-01-16T06:26:23.684542Z",
     "shell.execute_reply": "2022-01-16T06:26:23.685041Z",
     "shell.execute_reply.started": "2022-01-16T06:23:10.785368Z"
    },
    "papermill": {
     "duration": 0.841332,
     "end_time": "2022-01-16T06:26:23.685203",
     "exception": false,
     "start_time": "2022-01-16T06:26:22.843871",
     "status": "completed"
    },
    "tags": []
   },
   "outputs": [],
   "source": [
    "# Extra Tree - Confusion matrix\n",
    "print(\"Select Data By Extra Tree\")\n",
    "print(pd.DataFrame(confusion_matrix(y_test_extra_tree,y_pred_extra_tree_scaler), columns=['Predicted Positive', 'Predicted Nagative'], index=['Actual Positive', 'Actual Negative']))\n",
    "\n",
    "# nlargest - Confusion matrix\n",
    "print(\"Select Data By Abs nlargest\")\n",
    "print(pd.DataFrame(confusion_matrix(y_test_abs_nlargest,y_pred_abs_nlargest_scaler), columns=['Predicted Positive', 'Predicted Nagative'], index=['Actual Positive', 'Actual Negative']))"
   ]
  },
  {
   "cell_type": "code",
   "execution_count": null,
   "id": "d700770c",
   "metadata": {
    "execution": {
     "iopub.execute_input": "2022-01-16T06:26:23.800488Z",
     "iopub.status.busy": "2022-01-16T06:26:23.798113Z",
     "iopub.status.idle": "2022-01-16T06:26:24.677905Z",
     "shell.execute_reply": "2022-01-16T06:26:24.677415Z",
     "shell.execute_reply.started": "2022-01-16T06:23:11.680145Z"
    },
    "papermill": {
     "duration": 0.939475,
     "end_time": "2022-01-16T06:26:24.678015",
     "exception": false,
     "start_time": "2022-01-16T06:26:23.738540",
     "status": "completed"
    },
    "tags": []
   },
   "outputs": [],
   "source": [
    "# Extra Tree - Classification Report\n",
    "print(\"Classification report (Select Data By Extra Tree)\")\n",
    "print(classification_report(y_test_extra_tree, y_pred_extra_tree_scaler))\n",
    "\n",
    "# nlargest - Classification Report\n",
    "print(\"Classification report (Select Data By Abs nlargest)\")\n",
    "print(classification_report(y_test_abs_nlargest, y_pred_abs_nlargest_scaler))"
   ]
  },
  {
   "cell_type": "markdown",
   "id": "fe9d0020",
   "metadata": {
    "papermill": {
     "duration": 0.052713,
     "end_time": "2022-01-16T06:26:24.783313",
     "exception": false,
     "start_time": "2022-01-16T06:26:24.730600",
     "status": "completed"
    },
    "tags": []
   },
   "source": [
    "## Decision Tree"
   ]
  },
  {
   "cell_type": "code",
   "execution_count": null,
   "id": "2450356f",
   "metadata": {
    "execution": {
     "iopub.execute_input": "2022-01-16T06:26:24.912822Z",
     "iopub.status.busy": "2022-01-16T06:26:24.912277Z",
     "iopub.status.idle": "2022-01-16T06:26:25.027809Z",
     "shell.execute_reply": "2022-01-16T06:26:25.028191Z",
     "shell.execute_reply.started": "2022-01-16T06:23:13.171321Z"
    },
    "papermill": {
     "duration": 0.190915,
     "end_time": "2022-01-16T06:26:25.028350",
     "exception": false,
     "start_time": "2022-01-16T06:26:24.837435",
     "status": "completed"
    },
    "tags": []
   },
   "outputs": [],
   "source": [
    "from sklearn.tree import DecisionTreeClassifier\n",
    "dt_clf = DecisionTreeClassifier(criterion = 'gini', max_depth = 20, random_state=42)\n",
    "\n",
    "# Extra Tree - Fit Model\n",
    "dt_clf.fit(X_train_extra_tree_scaler, y_train_extra_tree)\n",
    "\n",
    "# nlargest - Fit Model\n",
    "dt_clf.fit(X_train_abs_nlargest_scaler, y_train_abs_nlargest)"
   ]
  },
  {
   "cell_type": "code",
   "execution_count": null,
   "id": "5e6dbf89",
   "metadata": {
    "execution": {
     "iopub.execute_input": "2022-01-16T06:26:25.143688Z",
     "iopub.status.busy": "2022-01-16T06:26:25.142814Z",
     "iopub.status.idle": "2022-01-16T06:26:25.772408Z",
     "shell.execute_reply": "2022-01-16T06:26:25.771925Z",
     "shell.execute_reply.started": "2022-01-16T06:23:13.279661Z"
    },
    "papermill": {
     "duration": 0.690372,
     "end_time": "2022-01-16T06:26:25.772521",
     "exception": false,
     "start_time": "2022-01-16T06:26:25.082149",
     "status": "completed"
    },
    "tags": []
   },
   "outputs": [],
   "source": [
    "#Extra Tree - Confusion matrix\n",
    "print(\"Confusion Matrix(Select Data By Extra Tree)\")\n",
    "pred_test_extrea_tree_scaler = dt_clf.predict(X_test_extra_tree_scaler)\n",
    "pd.DataFrame(confusion_matrix(y_test_extra_tree,pred_test_extrea_tree_scaler), columns=['Predicted Positive', 'Predicted Nagative'], index=['Actual Positive', 'Actual Negative'])"
   ]
  },
  {
   "cell_type": "code",
   "execution_count": null,
   "id": "9da84773",
   "metadata": {
    "execution": {
     "iopub.execute_input": "2022-01-16T06:26:25.884491Z",
     "iopub.status.busy": "2022-01-16T06:26:25.883965Z",
     "iopub.status.idle": "2022-01-16T06:26:26.300236Z",
     "shell.execute_reply": "2022-01-16T06:26:26.299774Z",
     "shell.execute_reply.started": "2022-01-16T06:23:13.753850Z"
    },
    "papermill": {
     "duration": 0.474722,
     "end_time": "2022-01-16T06:26:26.300338",
     "exception": false,
     "start_time": "2022-01-16T06:26:25.825616",
     "status": "completed"
    },
    "tags": []
   },
   "outputs": [],
   "source": [
    "# nlargest - Confusion matrix\n",
    "print(\"Confusion Matrix(Select Data By Abs nlargest)\")\n",
    "pred_test_abs_nlargest_scaler = dt_clf.predict(X_test_abs_nlargest_scaler)\n",
    "pd.DataFrame(confusion_matrix(y_test_abs_nlargest,pred_test_abs_nlargest_scaler), columns=['Predicted Positive', 'Predicted Nagative'], index=['Actual Positive', 'Actual Negative'])"
   ]
  },
  {
   "cell_type": "code",
   "execution_count": null,
   "id": "52d7b286",
   "metadata": {
    "execution": {
     "iopub.execute_input": "2022-01-16T06:26:26.414787Z",
     "iopub.status.busy": "2022-01-16T06:26:26.414294Z",
     "iopub.status.idle": "2022-01-16T06:26:27.297819Z",
     "shell.execute_reply": "2022-01-16T06:26:27.297175Z",
     "shell.execute_reply.started": "2022-01-16T06:23:14.243194Z"
    },
    "papermill": {
     "duration": 0.942923,
     "end_time": "2022-01-16T06:26:27.297958",
     "exception": false,
     "start_time": "2022-01-16T06:26:26.355035",
     "status": "completed"
    },
    "tags": []
   },
   "outputs": [],
   "source": [
    "# Extra Tree - Classification report\n",
    "print(\"Classification report (Select Data By Extra Tree)\")\n",
    "print(classification_report(y_test_extra_tree, pred_test_extrea_tree_scaler))\n",
    "\n",
    "\n",
    "# nlargest - Classification report\n",
    "print(\"Classification report (Select Data By nlargest)\")\n",
    "print(classification_report(y_test_abs_nlargest, pred_test_abs_nlargest_scaler))"
   ]
  },
  {
   "cell_type": "markdown",
   "id": "26cfde90",
   "metadata": {
    "papermill": {
     "duration": 0.057014,
     "end_time": "2022-01-16T06:26:27.413489",
     "exception": false,
     "start_time": "2022-01-16T06:26:27.356475",
     "status": "completed"
    },
    "tags": []
   },
   "source": [
    "## Conclusion\n",
    "The best accuracy from 4 models is a Decision Tree and Selection data is nlargest has 95% \n",
    "and has the best True Positive but for True Negative has value less than LogisticRegression but f1-score has a little different. So, Decision Tree and Selection data is nlargest medel is the best in this project.\n"
   ]
  }
 ],
 "metadata": {
  "kernelspec": {
   "display_name": "Python 3",
   "language": "python",
   "name": "python3"
  },
  "language_info": {
   "codemirror_mode": {
    "name": "ipython",
    "version": 3
   },
   "file_extension": ".py",
   "mimetype": "text/x-python",
   "name": "python",
   "nbconvert_exporter": "python",
   "pygments_lexer": "ipython3",
   "version": "3.9.7"
  },
  "papermill": {
   "default_parameters": {},
   "duration": 78.130666,
   "end_time": "2022-01-16T06:26:28.278437",
   "environment_variables": {},
   "exception": null,
   "input_path": "__notebook__.ipynb",
   "output_path": "__notebook__.ipynb",
   "parameters": {},
   "start_time": "2022-01-16T06:25:10.147771",
   "version": "2.3.3"
  }
 },
 "nbformat": 4,
 "nbformat_minor": 5
}
